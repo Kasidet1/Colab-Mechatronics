import scipy.signal as sig
import matplotlib.pyplot as plt
import numpy as np

x0 = [0,0] #ความเร็วเริ่มต้นเป็น 0 เเละกระแสไฟฟ้าเป็น 0

start = 0
stop = 10
step = 0.1
t = np.arange(start,stop,step)
N = len(t)

u0 = 5.25*np.ones(N) #แรงดัน input 

J = 0.01
b = 0.1
K = 0.01
R = 1
L = 0.5

A = [[ -b/J  ,K/J ],
     [-K/L ,-R/L ]]

B = [ [0],
      [1/L] ]

C = [[ 1,0 ]]         # output ก็คือ ระยะ h
D = 0

Kc=[[3,5]]
Q=np.dot(B,Kc)

sys = sig.StateSpace((A-Q),B,C,D)

t,y0,x = sig.lsim(sys, u0, t,x0)
y0 = 60*y0/(2*(3.14))

plt.figure(1)
plt.plot(t, y0,'r')
plt.title("Step Response")
plt.xlabel("t")
plt.ylabel(" rpm")
plt.grid()
plt.show()
